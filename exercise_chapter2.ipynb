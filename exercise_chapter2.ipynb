{
 "cells": [
  {
   "cell_type": "markdown",
   "metadata": {},
   "source": [
    "# Exercises\n",
    "The git for the book has answers to the exercise sections, but they are one liners. \n",
    "This is for people like me (likely new and learning) that appreciate building up to an answer in a more comprehensive way.\n",
    "\n",
    "Amazing Book! Thank you Stefanie Molin."
   ]
  },
  {
   "cell_type": "markdown",
   "metadata": {},
   "source": [
    "## Question 1\n",
    "Find the 95th percentile of earthquake magnitude in Japan using the magType of 'mb'."
   ]
  },
  {
   "cell_type": "code",
   "execution_count": 1,
   "metadata": {},
   "outputs": [],
   "source": [
    "import pandas as pd\n",
    "import numpy as np\n",
    "\n",
    "df = pd.read_csv('handsOnDataAnalysis/ch_02/data/parsed.csv')"
   ]
  },
  {
   "cell_type": "code",
   "execution_count": 12,
   "metadata": {},
   "outputs": [],
   "source": [
    "# First figure out the place\n",
    "df.place.str.contains(r'Japan')\n",
    "# this is a mask (a boolean mask), it'll help filtering our data. \n",
    "\n",
    "\n",
    "# Using the mask we now have a DataFrame with readings from only Japan. \n",
    "df[df.place.str.contains(r'Japan')]\n",
    "only_japan = df[df.place.str.contains(r'Japan')]"
   ]
  },
  {
   "cell_type": "code",
   "execution_count": 14,
   "metadata": {},
   "outputs": [],
   "source": [
    "# Next part of the question is about using just the magType of 'mb'. \n",
    "# We use a different mask:\n",
    "only_japan.magType == 'mb'\n",
    "only_japan_magType_mb = only_japan[only_japan.magType == 'mb']\n"
   ]
  },
  {
   "cell_type": "code",
   "execution_count": 15,
   "metadata": {},
   "outputs": [
    {
     "data": {
      "text/plain": [
       "4.9"
      ]
     },
     "execution_count": 15,
     "metadata": {},
     "output_type": "execute_result"
    }
   ],
   "source": [
    "# Finally we calculate the 95th percentile of earthquake magnitude on \n",
    "# this set. \n",
    "only_japan_magType_mb.mag.quantile(0.95)"
   ]
  },
  {
   "cell_type": "markdown",
   "metadata": {},
   "source": [
    "## Question 2\n",
    "Find the percentage of earthquakes in Indonesia that were coupled with tsunamis. "
   ]
  },
  {
   "cell_type": "code",
   "execution_count": 25,
   "metadata": {},
   "outputs": [
    {
     "data": {
      "text/plain": [
       "((34, 27), (147, 27))"
      ]
     },
     "execution_count": 25,
     "metadata": {},
     "output_type": "execute_result"
    }
   ],
   "source": [
    "# Using a mask like in the previous question\n",
    "only_indonesia = df[df.place.str.contains(r'Indonesia')]\n",
    "\n",
    "\n",
    "# make a subset using another mask (for earthquakes coupled with tsunamis)\n",
    "tsunamis_in_indonesia = only_indonesia[only_indonesia.tsunami == 1]\n",
    "\n",
    "\n",
    "# the shape shows everything we need for the percentage...\n",
    "(tsunamis_in_indonesia.shape, only_indonesia.shape)\n",
    "# there are two tuples in this tuple. \n",
    "# the first tuple is (34, 27), it is the shape of tsunamis_in_indonesia\n",
    "# 34 is the number of records... and that's what we need. "
   ]
  },
  {
   "cell_type": "code",
   "execution_count": 30,
   "metadata": {},
   "outputs": [
    {
     "name": "stdout",
     "output_type": "stream",
     "text": [
      "Percentage of earthquakes in Indonesia coupled with tsunamis: 23.13 %\n"
     ]
    }
   ],
   "source": [
    "# to calculate the percentage\n",
    "# compare the first item of each tuple item (the record count aka number_of_rows)\n",
    "percentage = (tsunamis_in_indonesia.shape[0] / only_indonesia.shape[0]) * 100\n",
    "\n",
    "print('Percentage of earthquakes in Indonesia coupled with tsunamis:', \\\n",
    "    round(percentage, 2), '%')"
   ]
  },
  {
   "cell_type": "markdown",
   "metadata": {},
   "source": [
    "## Question 3\n",
    "Get summary statistics for earthquakes in Nevada."
   ]
  },
  {
   "cell_type": "code",
   "execution_count": 35,
   "metadata": {},
   "outputs": [
    {
     "data": {
      "text/html": [
       "<div>\n",
       "<style scoped>\n",
       "    .dataframe tbody tr th:only-of-type {\n",
       "        vertical-align: middle;\n",
       "    }\n",
       "\n",
       "    .dataframe tbody tr th {\n",
       "        vertical-align: top;\n",
       "    }\n",
       "\n",
       "    .dataframe thead th {\n",
       "        text-align: right;\n",
       "    }\n",
       "</style>\n",
       "<table border=\"1\" class=\"dataframe\">\n",
       "  <thead>\n",
       "    <tr style=\"text-align: right;\">\n",
       "      <th></th>\n",
       "      <th>cdi</th>\n",
       "      <th>dmin</th>\n",
       "      <th>felt</th>\n",
       "      <th>gap</th>\n",
       "      <th>mag</th>\n",
       "      <th>mmi</th>\n",
       "      <th>nst</th>\n",
       "      <th>rms</th>\n",
       "      <th>sig</th>\n",
       "      <th>time</th>\n",
       "      <th>tsunami</th>\n",
       "      <th>tz</th>\n",
       "      <th>updated</th>\n",
       "    </tr>\n",
       "  </thead>\n",
       "  <tbody>\n",
       "    <tr>\n",
       "      <th>count</th>\n",
       "      <td>15.000000</td>\n",
       "      <td>677.000000</td>\n",
       "      <td>15.000000</td>\n",
       "      <td>677.000000</td>\n",
       "      <td>677.000000</td>\n",
       "      <td>1.00</td>\n",
       "      <td>677.000000</td>\n",
       "      <td>677.000000</td>\n",
       "      <td>677.000000</td>\n",
       "      <td>6.770000e+02</td>\n",
       "      <td>677.0</td>\n",
       "      <td>677.0</td>\n",
       "      <td>6.770000e+02</td>\n",
       "    </tr>\n",
       "    <tr>\n",
       "      <th>mean</th>\n",
       "      <td>2.440000</td>\n",
       "      <td>0.166982</td>\n",
       "      <td>2.400000</td>\n",
       "      <td>154.029527</td>\n",
       "      <td>0.491728</td>\n",
       "      <td>2.84</td>\n",
       "      <td>12.608567</td>\n",
       "      <td>0.151909</td>\n",
       "      <td>10.688331</td>\n",
       "      <td>1.538314e+12</td>\n",
       "      <td>0.0</td>\n",
       "      <td>-480.0</td>\n",
       "      <td>1.538402e+12</td>\n",
       "    </tr>\n",
       "    <tr>\n",
       "      <th>std</th>\n",
       "      <td>0.501142</td>\n",
       "      <td>0.166400</td>\n",
       "      <td>4.626013</td>\n",
       "      <td>68.769713</td>\n",
       "      <td>0.689560</td>\n",
       "      <td>NaN</td>\n",
       "      <td>9.890620</td>\n",
       "      <td>0.084742</td>\n",
       "      <td>19.252727</td>\n",
       "      <td>5.954070e+08</td>\n",
       "      <td>0.0</td>\n",
       "      <td>0.0</td>\n",
       "      <td>6.000267e+08</td>\n",
       "    </tr>\n",
       "    <tr>\n",
       "      <th>min</th>\n",
       "      <td>2.000000</td>\n",
       "      <td>0.001000</td>\n",
       "      <td>1.000000</td>\n",
       "      <td>29.140000</td>\n",
       "      <td>-0.500000</td>\n",
       "      <td>2.84</td>\n",
       "      <td>3.000000</td>\n",
       "      <td>0.000500</td>\n",
       "      <td>0.000000</td>\n",
       "      <td>1.537247e+12</td>\n",
       "      <td>0.0</td>\n",
       "      <td>-480.0</td>\n",
       "      <td>1.537307e+12</td>\n",
       "    </tr>\n",
       "    <tr>\n",
       "      <th>25%</th>\n",
       "      <td>2.000000</td>\n",
       "      <td>0.054000</td>\n",
       "      <td>1.000000</td>\n",
       "      <td>97.670000</td>\n",
       "      <td>-0.100000</td>\n",
       "      <td>2.84</td>\n",
       "      <td>6.000000</td>\n",
       "      <td>0.106900</td>\n",
       "      <td>0.000000</td>\n",
       "      <td>1.537854e+12</td>\n",
       "      <td>0.0</td>\n",
       "      <td>-480.0</td>\n",
       "      <td>1.537928e+12</td>\n",
       "    </tr>\n",
       "    <tr>\n",
       "      <th>50%</th>\n",
       "      <td>2.200000</td>\n",
       "      <td>0.113000</td>\n",
       "      <td>1.000000</td>\n",
       "      <td>149.550000</td>\n",
       "      <td>0.400000</td>\n",
       "      <td>2.84</td>\n",
       "      <td>9.000000</td>\n",
       "      <td>0.146300</td>\n",
       "      <td>2.000000</td>\n",
       "      <td>1.538280e+12</td>\n",
       "      <td>0.0</td>\n",
       "      <td>-480.0</td>\n",
       "      <td>1.538428e+12</td>\n",
       "    </tr>\n",
       "    <tr>\n",
       "      <th>75%</th>\n",
       "      <td>2.900000</td>\n",
       "      <td>0.234000</td>\n",
       "      <td>1.000000</td>\n",
       "      <td>200.470000</td>\n",
       "      <td>0.900000</td>\n",
       "      <td>2.84</td>\n",
       "      <td>16.000000</td>\n",
       "      <td>0.186700</td>\n",
       "      <td>12.000000</td>\n",
       "      <td>1.538821e+12</td>\n",
       "      <td>0.0</td>\n",
       "      <td>-480.0</td>\n",
       "      <td>1.538878e+12</td>\n",
       "    </tr>\n",
       "    <tr>\n",
       "      <th>max</th>\n",
       "      <td>3.300000</td>\n",
       "      <td>1.414000</td>\n",
       "      <td>19.000000</td>\n",
       "      <td>355.910000</td>\n",
       "      <td>2.900000</td>\n",
       "      <td>2.84</td>\n",
       "      <td>61.000000</td>\n",
       "      <td>0.863400</td>\n",
       "      <td>129.000000</td>\n",
       "      <td>1.539461e+12</td>\n",
       "      <td>0.0</td>\n",
       "      <td>-480.0</td>\n",
       "      <td>1.539483e+12</td>\n",
       "    </tr>\n",
       "  </tbody>\n",
       "</table>\n",
       "</div>"
      ],
      "text/plain": [
       "             cdi        dmin       felt         gap         mag   mmi  \\\n",
       "count  15.000000  677.000000  15.000000  677.000000  677.000000  1.00   \n",
       "mean    2.440000    0.166982   2.400000  154.029527    0.491728  2.84   \n",
       "std     0.501142    0.166400   4.626013   68.769713    0.689560   NaN   \n",
       "min     2.000000    0.001000   1.000000   29.140000   -0.500000  2.84   \n",
       "25%     2.000000    0.054000   1.000000   97.670000   -0.100000  2.84   \n",
       "50%     2.200000    0.113000   1.000000  149.550000    0.400000  2.84   \n",
       "75%     2.900000    0.234000   1.000000  200.470000    0.900000  2.84   \n",
       "max     3.300000    1.414000  19.000000  355.910000    2.900000  2.84   \n",
       "\n",
       "              nst         rms         sig          time  tsunami     tz  \\\n",
       "count  677.000000  677.000000  677.000000  6.770000e+02    677.0  677.0   \n",
       "mean    12.608567    0.151909   10.688331  1.538314e+12      0.0 -480.0   \n",
       "std      9.890620    0.084742   19.252727  5.954070e+08      0.0    0.0   \n",
       "min      3.000000    0.000500    0.000000  1.537247e+12      0.0 -480.0   \n",
       "25%      6.000000    0.106900    0.000000  1.537854e+12      0.0 -480.0   \n",
       "50%      9.000000    0.146300    2.000000  1.538280e+12      0.0 -480.0   \n",
       "75%     16.000000    0.186700   12.000000  1.538821e+12      0.0 -480.0   \n",
       "max     61.000000    0.863400  129.000000  1.539461e+12      0.0 -480.0   \n",
       "\n",
       "            updated  \n",
       "count  6.770000e+02  \n",
       "mean   1.538402e+12  \n",
       "std    6.000267e+08  \n",
       "min    1.537307e+12  \n",
       "25%    1.537928e+12  \n",
       "50%    1.538428e+12  \n",
       "75%    1.538878e+12  \n",
       "max    1.539483e+12  "
      ]
     },
     "execution_count": 35,
     "metadata": {},
     "output_type": "execute_result"
    }
   ],
   "source": [
    "# Similar strategy here, use a mask to filter Nevada entries\n",
    "only_nevada = df[df.place.str.contains(r'Nevada')]\n",
    "\n",
    "only_nevada.shape  # there are 677 records.\n",
    "\n",
    "\n",
    "# run the built-in summary statistics method.\n",
    "only_nevada.describe()"
   ]
  },
  {
   "cell_type": "markdown",
   "metadata": {},
   "source": [
    "## Question 4\n",
    "Add a column to the dataframe indicating whether or not the earthquake happened in a country or US state that is on the Ring of Fire. Use Bolivia, Chile, Ecuador, Peru, Costa Rica, Guatemala, Mexico (be careful not to select New Mexico), Japan, Philippines, Indonesia, New Zealand, Antartica (look for Antartic), Canada, Fiji, Alaska, Washington, California, Russia, Taiwan, Tonga, and Kermadec Islands."
   ]
  },
  {
   "cell_type": "code",
   "execution_count": null,
   "metadata": {},
   "outputs": [],
   "source": []
  },
  {
   "cell_type": "markdown",
   "metadata": {},
   "source": [
    "## Question 5\n",
    "Calculate the number of earthquakes in the Ring of Fire locations and the number outside them."
   ]
  },
  {
   "cell_type": "code",
   "execution_count": null,
   "metadata": {},
   "outputs": [],
   "source": []
  },
  {
   "cell_type": "markdown",
   "metadata": {},
   "source": [
    "## Question 6\n",
    "Find the tsunami count along the Ring of Fire."
   ]
  },
  {
   "cell_type": "markdown",
   "metadata": {},
   "source": []
  }
 ],
 "metadata": {
  "interpreter": {
   "hash": "d8f5a8577b8cf413169496226e4485bf91d05ebdcdf9e1588db361085a732ed9"
  },
  "kernelspec": {
   "display_name": "Python 3.9.7 64-bit ('ml_env': conda)",
   "language": "python",
   "name": "python3"
  },
  "language_info": {
   "codemirror_mode": {
    "name": "ipython",
    "version": 3
   },
   "file_extension": ".py",
   "mimetype": "text/x-python",
   "name": "python",
   "nbconvert_exporter": "python",
   "pygments_lexer": "ipython3",
   "version": "3.9.7"
  },
  "orig_nbformat": 4
 },
 "nbformat": 4,
 "nbformat_minor": 2
}
